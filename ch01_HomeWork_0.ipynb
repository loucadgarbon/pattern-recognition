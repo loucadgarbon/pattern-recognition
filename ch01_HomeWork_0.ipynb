{
 "cells": [
  {
   "cell_type": "code",
   "execution_count": 2,
   "metadata": {},
   "outputs": [],
   "source": [
    "import numpy as np"
   ]
  },
  {
   "cell_type": "markdown",
   "metadata": {},
   "source": [
    "### 3變數"
   ]
  },
  {
   "cell_type": "code",
   "execution_count": 42,
   "metadata": {},
   "outputs": [],
   "source": [
    "A1 = np.random.randint(-5, 5, size=(3, 3)) #從-5到5產生3X3矩陣\n",
    "b1 = np.random.randint(-5, 5, size=(3, 1)) #從-5到5產生3X1矩陣"
   ]
  },
  {
   "cell_type": "code",
   "execution_count": 43,
   "metadata": {},
   "outputs": [],
   "source": [
    "x1 = np.linalg.solve(A1, b1) #解方程式"
   ]
  },
  {
   "cell_type": "code",
   "execution_count": 44,
   "metadata": {},
   "outputs": [
    {
     "name": "stdout",
     "output_type": "stream",
     "text": [
      "A1=[[-1 -1  2]\n",
      " [ 4  1  4]\n",
      " [ 1 -2 -1]]\n",
      "b1=[[-2]\n",
      " [ 4]\n",
      " [ 0]]\n",
      "x1=[[ 1.03030303]\n",
      " [ 0.60606061]\n",
      " [-0.18181818]]\n"
     ]
    }
   ],
   "source": [
    "print('A1={}\\nb1={}\\nx1={}'.format(A1, b1, x1)) #顯示結果"
   ]
  },
  {
   "cell_type": "markdown",
   "metadata": {},
   "source": [
    "### 驗算"
   ]
  },
  {
   "cell_type": "code",
   "execution_count": 46,
   "metadata": {},
   "outputs": [
    {
     "data": {
      "text/plain": [
       "array([[-2.00000000e+00],\n",
       "       [ 4.00000000e+00],\n",
       "       [-2.77555756e-17]])"
      ]
     },
     "execution_count": 46,
     "metadata": {},
     "output_type": "execute_result"
    }
   ],
   "source": [
    "np.matmul(A1, x1) #矩陣乘法"
   ]
  },
  {
   "cell_type": "markdown",
   "metadata": {},
   "source": [
    "### 5變數"
   ]
  },
  {
   "cell_type": "code",
   "execution_count": 47,
   "metadata": {},
   "outputs": [],
   "source": [
    "A2 = np.random.randint(-5, 5, size=(5, 5)) #從-5到5產生3X3矩陣\n",
    "b2 = np.random.randint(-5, 5, size=(5, 1)) #從-5到5產生3X1矩陣"
   ]
  },
  {
   "cell_type": "code",
   "execution_count": 48,
   "metadata": {},
   "outputs": [],
   "source": [
    "x2 = np.linalg.solve(A2, b2) #解方程式"
   ]
  },
  {
   "cell_type": "code",
   "execution_count": 49,
   "metadata": {},
   "outputs": [
    {
     "name": "stdout",
     "output_type": "stream",
     "text": [
      "A2=[[ 0  1 -3 -1 -4]\n",
      " [-4 -5 -5 -2  0]\n",
      " [ 1  0  2 -4 -3]\n",
      " [ 1 -5 -5  3  4]\n",
      " [ 2  2 -3  1  2]]\n",
      "b2=[[-4]\n",
      " [-4]\n",
      " [ 0]\n",
      " [ 3]\n",
      " [ 4]]\n",
      "x2=[[ 1.05754885]\n",
      " [ 0.14351687]\n",
      " [ 0.04120782]\n",
      " [-0.57690941]\n",
      " [ 1.14920071]]\n"
     ]
    }
   ],
   "source": [
    "print('A2={}\\nb2={}\\nx2={}'.format(A2, b2, x2)) #顯示結果"
   ]
  },
  {
   "cell_type": "markdown",
   "metadata": {},
   "source": [
    "### 驗算"
   ]
  },
  {
   "cell_type": "code",
   "execution_count": 50,
   "metadata": {},
   "outputs": [
    {
     "data": {
      "text/plain": [
       "array([[-4.],\n",
       "       [-4.],\n",
       "       [ 0.],\n",
       "       [ 3.],\n",
       "       [ 4.]])"
      ]
     },
     "execution_count": 50,
     "metadata": {},
     "output_type": "execute_result"
    }
   ],
   "source": [
    "np.matmul(A2, x2) #矩陣乘法"
   ]
  },
  {
   "cell_type": "markdown",
   "metadata": {},
   "source": [
    "### 10變數"
   ]
  },
  {
   "cell_type": "code",
   "execution_count": 51,
   "metadata": {},
   "outputs": [],
   "source": [
    "A3 = np.random.randint(-5, 5, size=(10, 10)) #從-5到5產生3X3矩陣\n",
    "b3 = np.random.randint(-5, 5, size=(10, 1)) #從-5到5產生3X1矩陣"
   ]
  },
  {
   "cell_type": "code",
   "execution_count": 52,
   "metadata": {},
   "outputs": [],
   "source": [
    "x3 = np.linalg.solve(A3, b3) #解方程式"
   ]
  },
  {
   "cell_type": "code",
   "execution_count": 53,
   "metadata": {},
   "outputs": [
    {
     "name": "stdout",
     "output_type": "stream",
     "text": [
      "A3=[[ 4  3  0  2 -5 -4 -3  4 -3 -2]\n",
      " [ 2  3  3 -4  2 -1 -1 -4  0 -5]\n",
      " [-2  0 -5 -1 -2  0 -1  1  4 -1]\n",
      " [-4 -2  0 -2  3  0 -4  4 -2  4]\n",
      " [ 4  1 -5  1  3  1  3 -2  4 -4]\n",
      " [-1 -5  0  0  1 -4  1 -4  4  1]\n",
      " [-1 -2 -2 -1  1 -1  4  3 -3 -3]\n",
      " [-3 -2  4 -1 -3  0  4 -3  3  4]\n",
      " [ 1 -1 -5  0 -5 -1  0 -1  2 -3]\n",
      " [ 0 -1 -5  4  4 -1 -1 -3 -5  0]]\n",
      "b3=[[-2]\n",
      " [-3]\n",
      " [-1]\n",
      " [-5]\n",
      " [ 0]\n",
      " [ 2]\n",
      " [-3]\n",
      " [-2]\n",
      " [-2]\n",
      " [-1]]\n",
      "x3=[[-1.59189505]\n",
      " [-1.09085639]\n",
      " [ 1.85547315]\n",
      " [ 3.47227886]\n",
      " [ 0.19501521]\n",
      " [ 1.18722696]\n",
      " [-1.03462384]\n",
      " [ 0.41852583]\n",
      " [ 1.21489726]\n",
      " [-2.64314625]]\n"
     ]
    }
   ],
   "source": [
    "print('A3={}\\nb3={}\\nx3={}'.format(A3, b3, x3)) #顯示結果"
   ]
  },
  {
   "cell_type": "markdown",
   "metadata": {},
   "source": [
    "### 驗算"
   ]
  },
  {
   "cell_type": "code",
   "execution_count": 54,
   "metadata": {},
   "outputs": [
    {
     "data": {
      "text/plain": [
       "array([[-2.],\n",
       "       [-3.],\n",
       "       [-1.],\n",
       "       [-5.],\n",
       "       [ 0.],\n",
       "       [ 2.],\n",
       "       [-3.],\n",
       "       [-2.],\n",
       "       [-2.],\n",
       "       [-1.]])"
      ]
     },
     "execution_count": 54,
     "metadata": {},
     "output_type": "execute_result"
    }
   ],
   "source": [
    "np.matmul(A3, x3) #矩陣乘法"
   ]
  },
  {
   "cell_type": "markdown",
   "metadata": {},
   "source": []
  }
 ],
 "metadata": {
  "interpreter": {
   "hash": "7b4b4feff2f24a0f0a34464dbe537a36fda679851528fb8735cb41fa49dffb2d"
  },
  "kernelspec": {
   "display_name": "Python 3.9.7 64-bit ('base': conda)",
   "language": "python",
   "name": "python3"
  },
  "language_info": {
   "codemirror_mode": {
    "name": "ipython",
    "version": 3
   },
   "file_extension": ".py",
   "mimetype": "text/x-python",
   "name": "python",
   "nbconvert_exporter": "python",
   "pygments_lexer": "ipython3",
   "version": "3.9.7"
  },
  "orig_nbformat": 4
 },
 "nbformat": 4,
 "nbformat_minor": 2
}
